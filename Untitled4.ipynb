{
 "cells": [
  {
   "cell_type": "code",
   "execution_count": 1,
   "metadata": {},
   "outputs": [
    {
     "name": "stdout",
     "output_type": "stream",
     "text": [
      "d= 30\n"
     ]
    }
   ],
   "source": [
    "dss='10+20'\n",
    "d=eval(dss)\n",
    "print('d=',d)"
   ]
  },
  {
   "cell_type": "code",
   "execution_count": 3,
   "metadata": {},
   "outputs": [
    {
     "name": "stdout",
     "output_type": "stream",
     "text": [
      "b'Hello,TF!'\n"
     ]
    }
   ],
   "source": [
    "import tensorflow as tf\n",
    "hello =tf.constant('Hello,TF!')\n",
    "ss=tf.Session()\n",
    "print(ss.run(hello))"
   ]
  },
  {
   "cell_type": "code",
   "execution_count": 4,
   "metadata": {},
   "outputs": [
    {
     "name": "stdout",
     "output_type": "stream",
     "text": [
      "\n",
      "#1,set gg\n"
     ]
    }
   ],
   "source": [
    "print('\\n#1,set gg')\n",
    "gg=tf.get_default_graph()"
   ]
  },
  {
   "cell_type": "code",
   "execution_count": 5,
   "metadata": {},
   "outputs": [
    {
     "name": "stdout",
     "output_type": "stream",
     "text": [
      "\n",
      "#1\n"
     ]
    }
   ],
   "source": [
    "print('\\n#1')"
   ]
  },
  {
   "cell_type": "code",
   "execution_count": 6,
   "metadata": {},
   "outputs": [],
   "source": [
    "op1=gg.get_operations()"
   ]
  },
  {
   "cell_type": "code",
   "execution_count": 7,
   "metadata": {},
   "outputs": [
    {
     "name": "stdout",
     "output_type": "stream",
     "text": [
      "[<tf.Operation 'Const' type=Const>]\n"
     ]
    }
   ],
   "source": [
    "print(op1)"
   ]
  },
  {
   "cell_type": "code",
   "execution_count": 8,
   "metadata": {},
   "outputs": [
    {
     "data": {
      "text/plain": [
       "<tensorflow.python.framework.ops.Graph at 0x24dda1c23c8>"
      ]
     },
     "execution_count": 8,
     "metadata": {},
     "output_type": "execute_result"
    }
   ],
   "source": [
    "tf.get_default_graph()"
   ]
  },
  {
   "cell_type": "code",
   "execution_count": 10,
   "metadata": {},
   "outputs": [
    {
     "name": "stdout",
     "output_type": "stream",
     "text": [
      "\n",
      "#3,in_dat\n"
     ]
    },
    {
     "ename": "NameError",
     "evalue": "name 'indat' is not defined",
     "output_type": "error",
     "traceback": [
      "\u001b[1;31m---------------------------------------------------------------------------\u001b[0m",
      "\u001b[1;31mNameError\u001b[0m                                 Traceback (most recent call last)",
      "\u001b[1;32m<ipython-input-10-75a66345969b>\u001b[0m in \u001b[0;36m<module>\u001b[1;34m\u001b[0m\n\u001b[0;32m      2\u001b[0m \u001b[0min_dat\u001b[0m\u001b[1;33m=\u001b[0m\u001b[0mtf\u001b[0m\u001b[1;33m.\u001b[0m\u001b[0mconstant\u001b[0m\u001b[1;33m(\u001b[0m\u001b[1;36m1.0\u001b[0m\u001b[1;33m)\u001b[0m\u001b[1;33m\u001b[0m\u001b[1;33m\u001b[0m\u001b[0m\n\u001b[0;32m      3\u001b[0m \u001b[0mop2\u001b[0m\u001b[1;33m=\u001b[0m\u001b[0mgg\u001b[0m\u001b[1;33m.\u001b[0m\u001b[0mget_operations\u001b[0m\u001b[1;33m(\u001b[0m\u001b[1;33m)\u001b[0m\u001b[1;33m\u001b[0m\u001b[1;33m\u001b[0m\u001b[0m\n\u001b[1;32m----> 4\u001b[1;33m \u001b[0mindat\u001b[0m\u001b[1;33m\u001b[0m\u001b[1;33m\u001b[0m\u001b[0m\n\u001b[0m",
      "\u001b[1;31mNameError\u001b[0m: name 'indat' is not defined"
     ]
    }
   ],
   "source": [
    "print('\\n#3,in_dat')\n",
    "in_dat=tf.constant(1.0)\n",
    "op2=gg.get_operations()\n",
    "indat"
   ]
  },
  {
   "cell_type": "code",
   "execution_count": 11,
   "metadata": {},
   "outputs": [
    {
     "data": {
      "text/plain": [
       "<tf.Tensor 'Const_2:0' shape=() dtype=float32>"
      ]
     },
     "execution_count": 11,
     "metadata": {},
     "output_type": "execute_result"
    }
   ],
   "source": [
    "in_dat"
   ]
  },
  {
   "cell_type": "code",
   "execution_count": 21,
   "metadata": {},
   "outputs": [
    {
     "name": "stdout",
     "output_type": "stream",
     "text": [
      "\n",
      "#1,set.dat\n",
      "1.8\n"
     ]
    }
   ],
   "source": [
    "print('\\n#1,set.dat')\n",
    "x=tf.constant(1.0,name='x')\n",
    "y=tf.constant(0.8,name='y')\n",
    "z=tf.add(x,y,name='z')\n",
    "rlog='./ailib/log_tmp'\n",
    "ss=tf.Session()\n",
    "xsum=tf.summary.FileWriter(rlog,ss.graph)\n",
    "xss=ss.run(z)\n",
    "print(xss)\n",
    "ss.close()"
   ]
  },
  {
   "cell_type": "code",
   "execution_count": 22,
   "metadata": {},
   "outputs": [
    {
     "name": "stdout",
     "output_type": "stream",
     "text": [
      "1.8\n"
     ]
    },
    {
     "data": {
      "text/plain": [
       "<bound method BaseSession.close of <tensorflow.python.client.session.Session object at 0x0000024DE1676EB8>>"
      ]
     },
     "execution_count": 22,
     "metadata": {},
     "output_type": "execute_result"
    }
   ],
   "source": [
    "x=tf.constant(1.0,name='input')\n",
    "w=tf.Variable(0.8,name='weight')\n",
    "y=tf.multiply(w,x,name='output')\n",
    "rlog='./ailib/log_tmp'\n",
    "ss=tf.Session()\n",
    "xsum=tf.summary.FileWriter(rlog,ss.graph)\n",
    "xss=ss.run(z)\n",
    "print(xss)\n",
    "ss.close"
   ]
  },
  {
   "cell_type": "code",
   "execution_count": 24,
   "metadata": {},
   "outputs": [
    {
     "name": "stdout",
     "output_type": "stream",
     "text": [
      "0\n",
      "1\n",
      "1\n",
      "2\n",
      "2\n",
      "3\n",
      "3\n",
      "./ailib/tmp\n"
     ]
    }
   ],
   "source": [
    "rlog='./ailib/tmp'\n",
    "cnt=tf.Variable(0,name=\"cnt\")\n",
    "a=tf.constant(1,name=\"a\")\n",
    "y=tf.add(cnt,a)\n",
    "y2=tf.assign(cnt,y)\n",
    "init=tf.initialize_all_variables()\n",
    "with tf.Session() as ss:\n",
    "    ss.run(init)\n",
    "    xss=ss.run(cnt)\n",
    "    print(xss)\n",
    "    for xc in range(3):\n",
    "        ys2=ss.run(y2)\n",
    "        print(ys2)\n",
    "        xs2=ss.run(cnt)\n",
    "        print(xs2)\n",
    "    print(rlog)\n",
    "    xsum=tf.summary.FileWriter(rlog,ss.graph)"
   ]
  },
  {
   "cell_type": "code",
   "execution_count": 1,
   "metadata": {},
   "outputs": [
    {
     "name": "stdout",
     "output_type": "stream",
     "text": [
      "\n",
      "#3 train step\n",
      "\n",
      "#8,Session init\n",
      "0 #,y2,loss: 1.344 1.8063359 x2,w2 2.0 0.672\n",
      "1 #,y2,loss: 1.12896 1.2745507 x2,w2 2.0 0.56448\n",
      "2 #,y2,loss: 0.9483264 0.899323 x2,w2 2.0 0.4741632\n",
      "3 #,y2,loss: 0.7965942 0.6345623 x2,w2 2.0 0.3982971\n",
      "4 #,y2,loss: 0.66913915 0.4477472 x2,w2 2.0 0.33456957\n",
      "5 #,y2,loss: 0.56207687 0.3159304 x2,w2 2.0 0.28103843\n",
      "6 #,y2,loss: 0.47214457 0.22292049 x2,w2 2.0 0.23607229\n",
      "7 #,y2,loss: 0.39660144 0.1572927 x2,w2 2.0 0.19830072\n",
      "8 #,y2,loss: 0.3331452 0.110985726 x2,w2 2.0 0.1665726\n",
      "9 #,y2,loss: 0.27984196 0.078311525 x2,w2 2.0 0.13992098\n",
      "10 #,y2,loss: 0.23506725 0.055256613 x2,w2 2.0 0.117533624\n",
      "11 #,y2,loss: 0.1974565 0.038989067 x2,w2 2.0 0.09872825\n",
      "12 #,y2,loss: 0.16586345 0.027510686 x2,w2 2.0 0.08293173\n",
      "13 #,y2,loss: 0.1393253 0.019411542 x2,w2 2.0 0.06966265\n",
      "14 #,y2,loss: 0.11703326 0.013696783 x2,w2 2.0 0.05851663\n",
      "15 #,y2,loss: 0.09830794 0.009664451 x2,w2 2.0 0.04915397\n",
      "16 #,y2,loss: 0.08257867 0.006819236 x2,w2 2.0 0.041289333\n",
      "17 #,y2,loss: 0.06936608 0.0048116534 x2,w2 2.0 0.03468304\n",
      "18 #,y2,loss: 0.05826751 0.003395103 x2,w2 2.0 0.029133756\n",
      "19 #,y2,loss: 0.04894471 0.0023955847 x2,w2 2.0 0.024472356\n",
      "20 #,y2,loss: 0.04111356 0.0016903247 x2,w2 2.0 0.02055678\n",
      "21 #,y2,loss: 0.03453539 0.0011926931 x2,w2 2.0 0.017267695\n",
      "22 #,y2,loss: 0.029009728 0.0008415643 x2,w2 2.0 0.014504864\n",
      "23 #,y2,loss: 0.02436817 0.0005938077 x2,w2 2.0 0.012184085\n",
      "24 #,y2,loss: 0.020469263 0.00041899073 x2,w2 2.0 0.010234632\n",
      "25 #,y2,loss: 0.017194182 0.00029563988 x2,w2 2.0 0.008597091\n",
      "26 #,y2,loss: 0.014443113 0.0002086035 x2,w2 2.0 0.0072215563\n",
      "27 #,y2,loss: 0.012132214 0.00014719063 x2,w2 2.0 0.006066107\n",
      "28 #,y2,loss: 0.010191061 0.00010385772 x2,w2 2.0 0.0050955303\n",
      "29 #,y2,loss: 0.008560491 7.3282004e-05 x2,w2 2.0 0.0042802454\n",
      "30 #,y2,loss: 0.0071908124 5.1707782e-05 x2,w2 2.0 0.0035954062\n",
      "31 #,y2,loss: 0.0060402825 3.6485013e-05 x2,w2 2.0 0.0030201413\n",
      "32 #,y2,loss: 0.0050738375 2.5743826e-05 x2,w2 2.0 0.0025369187\n",
      "33 #,y2,loss: 0.0042620236 1.8164845e-05 x2,w2 2.0 0.0021310118\n",
      "34 #,y2,loss: 0.0035801 1.2817115e-05 x2,w2 2.0 0.00179005\n",
      "35 #,y2,loss: 0.003007284 9.043756e-06 x2,w2 2.0 0.001503642\n",
      "36 #,y2,loss: 0.0025261184 6.3812745e-06 x2,w2 2.0 0.0012630592\n",
      "37 #,y2,loss: 0.0021219396 4.5026277e-06 x2,w2 2.0 0.0010609698\n",
      "38 #,y2,loss: 0.0017824292 3.1770537e-06 x2,w2 2.0 0.0008912146\n",
      "39 #,y2,loss: 0.0014972405 2.2417291e-06 x2,w2 2.0 0.00074862025\n",
      "40 #,y2,loss: 0.001257682 1.581764e-06 x2,w2 2.0 0.000628841\n",
      "41 #,y2,loss: 0.0010564529 1.1160927e-06 x2,w2 2.0 0.00052822643\n",
      "42 #,y2,loss: 0.0008874204 7.875149e-07 x2,w2 2.0 0.0004437102\n",
      "43 #,y2,loss: 0.00074543315 5.5567057e-07 x2,w2 2.0 0.00037271657\n",
      "44 #,y2,loss: 0.00062616385 3.9208118e-07 x2,w2 2.0 0.00031308192\n",
      "45 #,y2,loss: 0.00052597764 2.766525e-07 x2,w2 2.0 0.00026298882\n",
      "46 #,y2,loss: 0.00044182123 1.95206e-07 x2,w2 2.0 0.00022091062\n",
      "47 #,y2,loss: 0.00037112983 1.3773736e-07 x2,w2 2.0 0.00018556492\n",
      "48 #,y2,loss: 0.00031174906 9.7187474e-08 x2,w2 2.0 0.00015587453\n",
      "49 #,y2,loss: 0.00026186922 6.857549e-08 x2,w2 2.0 0.00013093461\n",
      "50 #,y2,loss: 0.00021997016 4.838687e-08 x2,w2 2.0 0.00010998508\n",
      "51 #,y2,loss: 0.00018477492 3.414177e-08 x2,w2 2.0 9.238746e-05\n",
      "52 #,y2,loss: 0.00015521093 2.4090433e-08 x2,w2 2.0 7.7605466e-05\n",
      "53 #,y2,loss: 0.00013037719 1.699821e-08 x2,w2 2.0 6.518859e-05\n",
      "54 #,y2,loss: 0.00010951684 1.1993938e-08 x2,w2 2.0 5.475842e-05\n",
      "55 #,y2,loss: 9.1994145e-05 8.462923e-09 x2,w2 2.0 4.5997072e-05\n",
      "56 #,y2,loss: 7.727508e-05 5.971438e-09 x2,w2 2.0 3.863754e-05\n",
      "57 #,y2,loss: 6.4911066e-05 4.2134465e-09 x2,w2 2.0 3.2455533e-05\n",
      "58 #,y2,loss: 5.4525295e-05 2.9730078e-09 x2,w2 2.0 2.7262648e-05\n",
      "59 #,y2,loss: 4.5801247e-05 2.0977542e-09 x2,w2 2.0 2.2900624e-05\n",
      "60 #,y2,loss: 3.847305e-05 1.4801754e-09 x2,w2 2.0 1.9236524e-05\n",
      "61 #,y2,loss: 3.231736e-05 1.0444117e-09 x2,w2 2.0 1.615868e-05\n",
      "62 #,y2,loss: 2.7146581e-05 7.369369e-10 x2,w2 2.0 1.3573291e-05\n",
      "63 #,y2,loss: 2.2803128e-05 5.199826e-10 x2,w2 2.0 1.1401564e-05\n",
      "64 #,y2,loss: 1.9154628e-05 3.6689976e-10 x2,w2 2.0 9.577314e-06\n",
      "65 #,y2,loss: 1.6089887e-05 2.5888447e-10 x2,w2 2.0 8.044944e-06\n",
      "66 #,y2,loss: 1.3515505e-05 1.8266888e-10 x2,w2 2.0 6.7577525e-06\n",
      "67 #,y2,loss: 1.1353024e-05 1.2889116e-10 x2,w2 2.0 5.676512e-06\n",
      "68 #,y2,loss: 9.53654e-06 9.0945605e-11 x2,w2 2.0 4.76827e-06\n",
      "69 #,y2,loss: 8.010694e-06 6.417122e-11 x2,w2 2.0 4.005347e-06\n",
      "70 #,y2,loss: 6.728983e-06 4.527921e-11 x2,w2 2.0 3.3644915e-06\n",
      "71 #,y2,loss: 5.652346e-06 3.1949013e-11 x2,w2 2.0 2.826173e-06\n",
      "72 #,y2,loss: 4.7479707e-06 2.2543226e-11 x2,w2 2.0 2.3739854e-06\n",
      "73 #,y2,loss: 3.9882952e-06 1.5906498e-11 x2,w2 2.0 1.9941476e-06\n",
      "74 #,y2,loss: 3.350168e-06 1.1223626e-11 x2,w2 2.0 1.675084e-06\n",
      "75 #,y2,loss: 2.8141412e-06 7.919391e-12 x2,w2 2.0 1.4070706e-06\n",
      "76 #,y2,loss: 2.3638786e-06 5.587922e-12 x2,w2 2.0 1.1819393e-06\n",
      "77 #,y2,loss: 1.985658e-06 3.9428374e-12 x2,w2 2.0 9.92829e-07\n",
      "78 #,y2,loss: 1.6679527e-06 2.7820662e-12 x2,w2 2.0 8.3397634e-07\n",
      "79 #,y2,loss: 1.4010802e-06 1.9630259e-12 x2,w2 2.0 7.005401e-07\n",
      "80 #,y2,loss: 1.1769074e-06 1.385111e-12 x2,w2 2.0 5.884537e-07\n",
      "81 #,y2,loss: 9.886022e-07 9.773343e-13 x2,w2 2.0 4.943011e-07\n",
      "82 #,y2,loss: 8.3042585e-07 6.8960706e-13 x2,w2 2.0 4.1521292e-07\n",
      "83 #,y2,loss: 6.975577e-07 4.8658674e-13 x2,w2 2.0 3.4877885e-07\n",
      "84 #,y2,loss: 5.859485e-07 3.4333563e-13 x2,w2 2.0 2.9297425e-07\n",
      "85 #,y2,loss: 4.9219676e-07 2.4225766e-13 x2,w2 2.0 2.4609838e-07\n",
      "86 #,y2,loss: 4.1344526e-07 1.7093698e-13 x2,w2 2.0 2.0672263e-07\n",
      "87 #,y2,loss: 3.4729402e-07 1.2061314e-13 x2,w2 2.0 1.7364701e-07\n",
      "88 #,y2,loss: 2.9172696e-07 8.510462e-14 x2,w2 2.0 1.4586348e-07\n",
      "89 #,y2,loss: 2.4505064e-07 6.004982e-14 x2,w2 2.0 1.2252532e-07\n",
      "90 #,y2,loss: 2.0584254e-07 4.237115e-14 x2,w2 2.0 1.0292127e-07\n",
      "91 #,y2,loss: 1.7290773e-07 2.9897085e-14 x2,w2 2.0 8.6453866e-08\n",
      "92 #,y2,loss: 1.452425e-07 2.1095383e-14 x2,w2 2.0 7.262125e-08\n",
      "93 #,y2,loss: 1.220037e-07 1.4884902e-14 x2,w2 2.0 6.100185e-08\n",
      "94 #,y2,loss: 1.02483106e-07 1.0502787e-14 x2,w2 2.0 5.1241553e-08\n",
      "95 #,y2,loss: 8.608581e-08 7.4107675e-15 x2,w2 2.0 4.3042906e-08\n",
      "96 #,y2,loss: 7.231208e-08 5.2290376e-15 x2,w2 2.0 3.615604e-08\n",
      "97 #,y2,loss: 6.074215e-08 3.689609e-15 x2,w2 2.0 3.0371076e-08\n",
      "98 #,y2,loss: 5.102341e-08 2.6033884e-15 x2,w2 2.0 2.5511705e-08\n",
      "99 #,y2,loss: 4.2859664e-08 1.8369508e-15 x2,w2 2.0 2.1429832e-08\n"
     ]
    }
   ],
   "source": [
    "import tensorflow as tf\n",
    "rlog='./ailib/tm'\n",
    "x=tf.constant(2.0,name='input')\n",
    "w=tf.Variable(0.8,name='eight')\n",
    "y_model=tf.multiply(w,x,name='output')\n",
    "y_model=w*x\n",
    "y=tf.constant(0.0,name='correct_value')\n",
    "loss=tf.pow(y_model-y,2,name='loss')\n",
    "print('\\n#3 train step')\n",
    "step=tf.train.GradientDescentOptimizer(0.02).minimize(loss)\n",
    "for value in[x,w,y_model,y,loss]:\n",
    "    tf.summary.scalar(value.op.name,value)\n",
    "    \n",
    "summaries=tf.summary.merge_all()\n",
    "ss=tf.Session()\n",
    "xsum=tf.summary.FileWriter(rlog,ss.graph)\n",
    "\n",
    "init=tf.global_variables_initializer()\n",
    "ss.run(init)\n",
    "\n",
    "print('\\n#8,Session init')\n",
    "for i in range(100):\n",
    "    xdat=ss.run(summaries)\n",
    "    xsum.add_summary(xdat,i)\n",
    "    x2=ss.run(step)\n",
    "    \n",
    "    x2,y2,w2=ss.run(x),ss.run(y_model),ss.run(w)\n",
    "    s2=ss.run(loss)\n",
    "    print(i,'#,y2,loss:',y2,s2,'x2,w2',x2,w2)\n",
    "ss.close()"
   ]
  },
  {
   "cell_type": "code",
   "execution_count": null,
   "metadata": {},
   "outputs": [],
   "source": []
  }
 ],
 "metadata": {
  "kernelspec": {
   "display_name": "Python 3",
   "language": "python",
   "name": "python3"
  },
  "language_info": {
   "codemirror_mode": {
    "name": "ipython",
    "version": 3
   },
   "file_extension": ".py",
   "mimetype": "text/x-python",
   "name": "python",
   "nbconvert_exporter": "python",
   "pygments_lexer": "ipython3",
   "version": "3.6.8"
  }
 },
 "nbformat": 4,
 "nbformat_minor": 2
}
